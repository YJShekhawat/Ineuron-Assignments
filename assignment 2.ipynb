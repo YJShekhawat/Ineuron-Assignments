{
 "cells": [
  {
   "cell_type": "code",
   "execution_count": 36,
   "metadata": {},
   "outputs": [
    {
     "name": "stdout",
     "output_type": "stream",
     "text": [
      "60\n"
     ]
    }
   ],
   "source": [
    "#Task 1:\n",
    "#Write a Python Program to implement your own myreduce() function which works exactly like\n",
    "#Python's built-in function reduce()\n",
    "def my_reduce(fun,seq):\n",
    "    f=seq[0]\n",
    "    for i in seq[1:]:\n",
    "        a=fun(f,i)\n",
    "        f=a\n",
    "    return a\n",
    "def mul(a,b):\n",
    "    return a*b\n",
    "print(my_reduce(mul,[1,2,3,2,5]))"
   ]
  },
  {
   "cell_type": "code",
   "execution_count": 37,
   "metadata": {},
   "outputs": [
    {
     "name": "stdout",
     "output_type": "stream",
     "text": [
      "18\n",
      "24\n",
      "32\n"
     ]
    }
   ],
   "source": [
    "#Write a Python program to implement your own myfilter() function which works exactly like\n",
    "#Python's built-in function filter()\n",
    "ages = [5, 12, 17, 18, 24, 32]\n",
    "\n",
    "def myFunc(x):\n",
    "  if x < 18:\n",
    "    return False\n",
    "  else:\n",
    "    return True\n",
    "def myfilter(func,seq):\n",
    "    for i in seq:\n",
    "        if(func(i)==True):\n",
    "            yield i    \n",
    "adults = myfilter(myFunc, ages)\n",
    "for x in adults:\n",
    "  print(x)\n"
   ]
  },
  {
   "cell_type": "code",
   "execution_count": 38,
   "metadata": {},
   "outputs": [
    {
     "name": "stdout",
     "output_type": "stream",
     "text": [
      "['A', 'C', 'A', 'D', 'G', 'I', 'L', 'D']\n",
      "['x', 'xx', 'xxx', 'y', 'yy', 'yyy', 'z', 'zz', 'zzz']\n",
      "['x', 'y', 'z', 'xx', 'yy', 'zz', 'xx', 'yy', 'zz', 'xxxx', 'yyyy', 'zzzz']\n",
      "[[2], [3], [4], [3], [4], [5], [4], [5], [6]]\n",
      "[[2, 3, 4, 5], [3, 4, 5, 6], [4, 5, 6, 7], [5, 6, 7, 8]]\n",
      "[(1, 1), (2, 1), (3, 1), (1, 2), (2, 2), (3, 2), (1, 3), (2, 3), (3, 3)]\n"
     ]
    }
   ],
   "source": [
    "#Implement List comprehensions to produce the following lists.\n",
    "#Write List comprehensions to produce the following Lists\n",
    "#['A', 'C', 'A', 'D', 'G', 'I', ’L’, ‘ D’]\n",
    "w=\"ACADGILD\"\n",
    "l=[]\n",
    "for i in w:\n",
    "    l.append(i)\n",
    "print(l)\n",
    "x=\"xyz\"\n",
    "l=[]\n",
    "for i in x:\n",
    "    for j in range(1,4):\n",
    "        l.append(i*j)\n",
    "print(l)\n",
    "w=[1,2,2,4]\n",
    "l=[]\n",
    "for i in w:\n",
    "    for j in x:\n",
    "        l.append(j*i)\n",
    "print(l)\n",
    "l=[]\n",
    "for i in range(2,5):\n",
    "    for j in range(0,3):\n",
    "        l.append([j+i])\n",
    "print(l)\n",
    "l=[]\n",
    "for i in range(2,6):\n",
    "        l.append([j+i for j in range(0,4)])\n",
    "print(l)\n",
    "l=[]\n",
    "for i in range(1,4):\n",
    "    for j in range(1,4):\n",
    "        l.append((j,i))\n",
    "print(l)"
   ]
  },
  {
   "cell_type": "code",
   "execution_count": 39,
   "metadata": {},
   "outputs": [
    {
     "name": "stdout",
     "output_type": "stream",
     "text": [
      "The longest word of sequence is:asxasx\n"
     ]
    }
   ],
   "source": [
    "#Implement a function longestWord() that takes a list of words and returns the longest one.\n",
    "l=['abc','abcd','abcde','avd','asxasx','sa']\n",
    "def longestWord(seq):\n",
    "    lw=seq[0]\n",
    "    for i in seq:\n",
    "        if(len(lw)<len(i)):\n",
    "            lw=i\n",
    "    return lw\n",
    "print(\"The longest word of sequence is:%s\"%(longestWord(l)))"
   ]
  },
  {
   "cell_type": "code",
   "execution_count": 40,
   "metadata": {},
   "outputs": [
    {
     "name": "stdout",
     "output_type": "stream",
     "text": [
      "Enter the sides of triangle\n",
      "Enter 1st side6\n",
      "Enter 2nd side5\n",
      "Enter 3rd side2\n",
      "Area is: 1.8371173070873836\n"
     ]
    }
   ],
   "source": [
    "#Task 2:\n",
    "#Write a Python Program(with class concepts) to find the area of the triangle using the below\n",
    "#formula. area = (s*(s-a)*(s-b)*(s-c)) ** 0.5\n",
    "#Function to take the length of the sides of triangle from user should be defined in the parent\n",
    "#class and function to calculate the area should be defined in subclass.\n",
    "class triangle:\n",
    "    def insert(self):\n",
    "        print(\"Enter the sides of triangle\")\n",
    "        self.a=float(input(\"Enter 1st side\"))\n",
    "        self.b=float(input(\"Enter 2nd side\"))\n",
    "        self.c=float(input(\"Enter 3rd side\"))\n",
    "class area(triangle):\n",
    "    def tri_area(self):\n",
    "        s=(self.a+self.b+self.c)/2\n",
    "        a=((s-self.a)*(s-self.b)*(s-self.c)) ** 0.5\n",
    "        print(\"Area is:\",a)\n",
    "tri=area()\n",
    "tri.insert()\n",
    "tri.tri_area()\n",
    "        \n",
    "        "
   ]
  },
  {
   "cell_type": "code",
   "execution_count": 41,
   "metadata": {},
   "outputs": [
    {
     "name": "stdout",
     "output_type": "stream",
     "text": [
      "['jshdcih']\n"
     ]
    }
   ],
   "source": [
    "#Write a function filter_long_words() that takes a list of words and an integer n and returns the list\n",
    "#of words that are longer than n.\n",
    "def filter_long_words(n,seq):\n",
    "    l=[]\n",
    "    for i in seq:\n",
    "        if(len(i)>n):\n",
    "            l.append(i)\n",
    "    return l\n",
    "print(filter_long_words(5,['scsx','jshdcih','sjsjs','sxs']))\n",
    "    "
   ]
  },
  {
   "cell_type": "code",
   "execution_count": 42,
   "metadata": {},
   "outputs": [
    {
     "name": "stdout",
     "output_type": "stream",
     "text": [
      "[3, 1, 2]\n"
     ]
    }
   ],
   "source": [
    "#Write a Python program using function concept that maps list of words into a list of integers\n",
    "#representing the lengths of the corresponding words.\n",
    "seq=['sds','s','xc']\n",
    "l=list(map(lambda x : len(x),seq))\n",
    "print(l)\n"
   ]
  },
  {
   "cell_type": "code",
   "execution_count": 44,
   "metadata": {},
   "outputs": [
    {
     "name": "stdout",
     "output_type": "stream",
     "text": [
      "enter a characterr\n",
      "False\n"
     ]
    }
   ],
   "source": [
    "#Write a Python function which takes a character (i.e. a string of length 1) and returns True if it is\n",
    "#a vowel, False otherwise.\n",
    "def check_vowe(ch):\n",
    "    if(ch==('a' or 'e' or 'i' or 'o' or 'u')):\n",
    "        return True\n",
    "    else:\n",
    "        return False\n",
    "x=input(\"enter a character\")\n",
    "print(check_vowe(x))"
   ]
  },
  {
   "cell_type": "code",
   "execution_count": null,
   "metadata": {},
   "outputs": [],
   "source": []
  },
  {
   "cell_type": "code",
   "execution_count": null,
   "metadata": {},
   "outputs": [],
   "source": []
  }
 ],
 "metadata": {
  "kernelspec": {
   "display_name": "Python 3",
   "language": "python",
   "name": "python3"
  },
  "language_info": {
   "codemirror_mode": {
    "name": "ipython",
    "version": 3
   },
   "file_extension": ".py",
   "mimetype": "text/x-python",
   "name": "python",
   "nbconvert_exporter": "python",
   "pygments_lexer": "ipython3",
   "version": "3.7.3"
  }
 },
 "nbformat": 4,
 "nbformat_minor": 2
}
