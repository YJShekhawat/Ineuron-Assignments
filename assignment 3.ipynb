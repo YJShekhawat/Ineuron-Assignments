{
 "cells": [
  {
   "cell_type": "code",
   "execution_count": 6,
   "metadata": {},
   "outputs": [
    {
     "name": "stdout",
     "output_type": "stream",
     "text": [
      "enter dividet5\n",
      "enter divisor0\n",
      "There is division by zero error\n"
     ]
    }
   ],
   "source": [
    "#Task1\n",
    "#Write a function to compute 5/0 and use try/except to catch the exceptions.\n",
    "try:\n",
    "    x=int(input(\"enter dividet\"))\n",
    "    y=int(input(\"enter divisor\"))\n",
    "    print(\"quotient :\",x/y)\n",
    "except Exception as a :\n",
    "    print(\"There is %s error\"%a)\n",
    "    "
   ]
  },
  {
   "cell_type": "code",
   "execution_count": 7,
   "metadata": {},
   "outputs": [
    {
     "name": "stdout",
     "output_type": "stream",
     "text": [
      "Americans Play Baseball\n",
      "Americans Play cricket\n",
      "Americans watch Baseball\n",
      "Americans watch cricket\n",
      "Indians Play Baseball\n",
      "Indians Play cricket\n",
      "Indians watch Baseball\n",
      "Indians watch cricket\n"
     ]
    }
   ],
   "source": [
    "#Implement a Python program to generate all sentences where subject is in [\"Americans\",\n",
    "#\"Indians\"] and verb is in [\"Play\", \"watch\"] and the object is in [\"Baseball\",\"cricket\"].\n",
    "for i in [\"Americans\",\"Indians\"]:\n",
    "    for j in [\"Play\", \"watch\"]:\n",
    "        for k in [\"Baseball\",\"cricket\"]:\n",
    "            print(i,j,k)"
   ]
  },
  {
   "cell_type": "code",
   "execution_count": 13,
   "metadata": {},
   "outputs": [
    {
     "name": "stdout",
     "output_type": "stream",
     "text": [
      "[[1, 5, 25, 125, 625], [1, 3, 9, 27, 81], [1, 7, 49, 343, 2401], [1, 3, 9, 27, 81], [1, 9, 81, 729, 6561]]\n",
      "[[625, 125, 25, 5, 1], [81, 27, 9, 3, 1], [2401, 343, 49, 7, 1], [81, 27, 9, 3, 1], [6561, 729, 81, 9, 1]]\n"
     ]
    }
   ],
   "source": [
    "#Write a function so that the columns of the output matrix are powers of the input vector.\n",
    "#The order of the powers is determined by the increasing boolean argument. Specifically, when\n",
    "#increasing is False, the i-th output column is the input vector raised element-wise to the power\n",
    "#of N - i - 1.\n",
    "def func(N,seq,increasing=False):\n",
    "    l=[]\n",
    "    if(increasing==False):\n",
    "        for i in seq:\n",
    "            l.append([i**(N-j-1) for j in range(0,N)])\n",
    "        return l\n",
    "    else:\n",
    "        for i in seq:\n",
    "            l.append([i**(j) for j in range(0,N)])\n",
    "        return l\n",
    "\n",
    "print(func(5,[5,3,7,3,9],True))\n",
    "print(func(5,[5,3,7,3,9]))"
   ]
  },
  {
   "cell_type": "code",
   "execution_count": null,
   "metadata": {},
   "outputs": [],
   "source": []
  }
 ],
 "metadata": {
  "kernelspec": {
   "display_name": "Python 3",
   "language": "python",
   "name": "python3"
  },
  "language_info": {
   "codemirror_mode": {
    "name": "ipython",
    "version": 3
   },
   "file_extension": ".py",
   "mimetype": "text/x-python",
   "name": "python",
   "nbconvert_exporter": "python",
   "pygments_lexer": "ipython3",
   "version": "3.7.3"
  }
 },
 "nbformat": 4,
 "nbformat_minor": 2
}
